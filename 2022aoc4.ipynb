{
 "cells": [
  {
   "cell_type": "code",
   "execution_count": 85,
   "id": "345ae754",
   "metadata": {},
   "outputs": [
    {
     "data": {
      "text/html": [
       "<style>.container { width:100% !important; }</style>"
      ],
      "text/plain": [
       "<IPython.core.display.HTML object>"
      ]
     },
     "metadata": {},
     "output_type": "display_data"
    }
   ],
   "source": [
    "# bring in relevant libraries\n",
    "import pandas as pd\n",
    "import numpy as np\n",
    "import string\n",
    "from pathlib import Path\n",
    "\n",
    "# expand to width of screen\n",
    "from IPython.core.display import display, HTML\n",
    "display(HTML(\"<style>.container { width:100% !important; }</style>\"))"
   ]
  },
  {
   "cell_type": "code",
   "execution_count": 169,
   "id": "ec319d41",
   "metadata": {},
   "outputs": [
    {
     "data": {
      "text/plain": [
       "['22-77,14-96',\n",
       " '7-99,65-98',\n",
       " '22-36,37-62',\n",
       " '25-94,24-67',\n",
       " '6-91,1-6',\n",
       " '88-88,2-88',\n",
       " '27-89,58-96',\n",
       " '21-82,9-94',\n",
       " '38-79,27-80',\n",
       " '4-90,30-55']"
      ]
     },
     "execution_count": 169,
     "metadata": {},
     "output_type": "execute_result"
    }
   ],
   "source": [
    "# import file, check output\n",
    "folder = Path(\"/Users/gflo247/Desktop/programming/AOC/2022\")\n",
    "filename = \"2022aoc4.txt\"\n",
    "with open(folder / filename) as f:\n",
    "    mylist = f.read().splitlines()\n",
    "mylist[:10]"
   ]
  },
  {
   "cell_type": "code",
   "execution_count": 162,
   "id": "06cdb4c5",
   "metadata": {},
   "outputs": [
    {
     "data": {
      "text/plain": [
       "[['22-77', '14-96'],\n",
       " ['7-99', '65-98'],\n",
       " ['22-36', '37-62'],\n",
       " ['25-94', '24-67'],\n",
       " ['6-91', '1-6'],\n",
       " ['88-88', '2-88'],\n",
       " ['27-89', '58-96'],\n",
       " ['21-82', '9-94'],\n",
       " ['38-79', '27-80'],\n",
       " ['4-90', '30-55']]"
      ]
     },
     "execution_count": 162,
     "metadata": {},
     "output_type": "execute_result"
    }
   ],
   "source": [
    "pairs = [line.replace(',', ' ').split(' ') for line in mylist]\n",
    "pairs[:10]"
   ]
  },
  {
   "cell_type": "code",
   "execution_count": 170,
   "id": "a33c14ae",
   "metadata": {},
   "outputs": [],
   "source": [
    "# part 1\n",
    "fully_overlapping = 0\n",
    "\n",
    "for pair in pairs:\n",
    "    a = int(pair[0].split('-')[0])\n",
    "    b = int(pair[0].split('-')[1])\n",
    "    c = int(pair[1].split('-')[0])\n",
    "    d = int(pair[1].split('-')[1])\n",
    "    if (c <= a <= d and c <= b <= d) or (a <= c <= b and a <= d <= b):\n",
    "        fully_overlapping += 1\n",
    "\n",
    "# part 2\n",
    "overlapping = 0\n",
    "\n",
    "for pair in pairs:\n",
    "    a = int(pair[0].split('-')[0])\n",
    "    b = int(pair[0].split('-')[1])\n",
    "    c = int(pair[1].split('-')[0])\n",
    "    d = int(pair[1].split('-')[1])\n",
    "    if c <= a <= d or c <= b <= d or a <= c <= b and a <= d <= b:\n",
    "        overlapping += 1"
   ]
  },
  {
   "cell_type": "code",
   "execution_count": 164,
   "id": "f0fb2b64",
   "metadata": {},
   "outputs": [
    {
     "data": {
      "text/plain": [
       "532"
      ]
     },
     "execution_count": 164,
     "metadata": {},
     "output_type": "execute_result"
    }
   ],
   "source": [
    "fully_overlapping"
   ]
  },
  {
   "cell_type": "code",
   "execution_count": 165,
   "id": "a13d8183",
   "metadata": {},
   "outputs": [
    {
     "data": {
      "text/plain": [
       "854"
      ]
     },
     "execution_count": 165,
     "metadata": {},
     "output_type": "execute_result"
    }
   ],
   "source": [
    "overlapping"
   ]
  }
 ],
 "metadata": {
  "kernelspec": {
   "display_name": "Python 3",
   "language": "python",
   "name": "python3"
  },
  "language_info": {
   "codemirror_mode": {
    "name": "ipython",
    "version": 3
   },
   "file_extension": ".py",
   "mimetype": "text/x-python",
   "name": "python",
   "nbconvert_exporter": "python",
   "pygments_lexer": "ipython3",
   "version": "3.8.8"
  }
 },
 "nbformat": 4,
 "nbformat_minor": 5
}
